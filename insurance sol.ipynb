{
 "cells": [
  {
   "cell_type": "code",
   "execution_count": 2,
   "id": "b33adee8",
   "metadata": {},
   "outputs": [],
   "source": [
    "import pandas as pd\n",
    "import numpy as np\n",
    "import matplotlib.pyplot as plt\n",
    "import datetime as dt\n",
    "import seaborn as sns\n",
    "import re\n",
    "import scipy.stats as stats"
   ]
  },
  {
   "cell_type": "markdown",
   "id": "5cb606ab",
   "metadata": {},
   "source": [
    "### 1. Import claims_data.csv and cust_data.csv which is provided to you and combine the two datasets appropriately to create a 360-degree view of the data. Use the same for the subsequent questions"
   ]
  },
  {
   "cell_type": "code",
   "execution_count": 3,
   "id": "6b0dabe9",
   "metadata": {},
   "outputs": [
    {
     "data": {
      "text/html": [
       "<div>\n",
       "<style scoped>\n",
       "    .dataframe tbody tr th:only-of-type {\n",
       "        vertical-align: middle;\n",
       "    }\n",
       "\n",
       "    .dataframe tbody tr th {\n",
       "        vertical-align: top;\n",
       "    }\n",
       "\n",
       "    .dataframe thead th {\n",
       "        text-align: right;\n",
       "    }\n",
       "</style>\n",
       "<table border=\"1\" class=\"dataframe\">\n",
       "  <thead>\n",
       "    <tr style=\"text-align: right;\">\n",
       "      <th></th>\n",
       "      <th>claim_id</th>\n",
       "      <th>customer_id</th>\n",
       "      <th>incident_cause</th>\n",
       "      <th>claim_date</th>\n",
       "      <th>claim_area</th>\n",
       "      <th>police_report</th>\n",
       "      <th>claim_type</th>\n",
       "      <th>claim_amount</th>\n",
       "      <th>total_policy_claims</th>\n",
       "      <th>fraudulent</th>\n",
       "    </tr>\n",
       "  </thead>\n",
       "  <tbody>\n",
       "    <tr>\n",
       "      <th>0</th>\n",
       "      <td>54004764</td>\n",
       "      <td>21868593</td>\n",
       "      <td>Driver error</td>\n",
       "      <td>11/27/2017</td>\n",
       "      <td>Auto</td>\n",
       "      <td>No</td>\n",
       "      <td>Material only</td>\n",
       "      <td>$2980</td>\n",
       "      <td>1.0</td>\n",
       "      <td>No</td>\n",
       "    </tr>\n",
       "    <tr>\n",
       "      <th>1</th>\n",
       "      <td>33985796</td>\n",
       "      <td>75740424</td>\n",
       "      <td>Crime</td>\n",
       "      <td>10/03/2018</td>\n",
       "      <td>Home</td>\n",
       "      <td>Unknown</td>\n",
       "      <td>Material only</td>\n",
       "      <td>$2980</td>\n",
       "      <td>3.0</td>\n",
       "      <td>No</td>\n",
       "    </tr>\n",
       "    <tr>\n",
       "      <th>2</th>\n",
       "      <td>53522022</td>\n",
       "      <td>30308357</td>\n",
       "      <td>Other driver error</td>\n",
       "      <td>02/02/2018</td>\n",
       "      <td>Auto</td>\n",
       "      <td>No</td>\n",
       "      <td>Material only</td>\n",
       "      <td>$3369.5</td>\n",
       "      <td>1.0</td>\n",
       "      <td>Yes</td>\n",
       "    </tr>\n",
       "    <tr>\n",
       "      <th>3</th>\n",
       "      <td>13015401</td>\n",
       "      <td>47830476</td>\n",
       "      <td>Natural causes</td>\n",
       "      <td>06/17/2018</td>\n",
       "      <td>Auto</td>\n",
       "      <td>No</td>\n",
       "      <td>Material only</td>\n",
       "      <td>$1680</td>\n",
       "      <td>1.0</td>\n",
       "      <td>No</td>\n",
       "    </tr>\n",
       "    <tr>\n",
       "      <th>4</th>\n",
       "      <td>22890252</td>\n",
       "      <td>19269962</td>\n",
       "      <td>Crime</td>\n",
       "      <td>01/13/2018</td>\n",
       "      <td>Auto</td>\n",
       "      <td>No</td>\n",
       "      <td>Material only</td>\n",
       "      <td>$2680</td>\n",
       "      <td>1.0</td>\n",
       "      <td>No</td>\n",
       "    </tr>\n",
       "  </tbody>\n",
       "</table>\n",
       "</div>"
      ],
      "text/plain": [
       "   claim_id  customer_id      incident_cause  claim_date claim_area  \\\n",
       "0  54004764     21868593        Driver error  11/27/2017       Auto   \n",
       "1  33985796     75740424               Crime  10/03/2018       Home   \n",
       "2  53522022     30308357  Other driver error  02/02/2018       Auto   \n",
       "3  13015401     47830476      Natural causes  06/17/2018       Auto   \n",
       "4  22890252     19269962               Crime  01/13/2018       Auto   \n",
       "\n",
       "  police_report     claim_type claim_amount  total_policy_claims fraudulent  \n",
       "0            No  Material only        $2980                  1.0         No  \n",
       "1       Unknown  Material only        $2980                  3.0         No  \n",
       "2            No  Material only      $3369.5                  1.0        Yes  \n",
       "3            No  Material only        $1680                  1.0         No  \n",
       "4            No  Material only        $2680                  1.0         No  "
      ]
     },
     "execution_count": 3,
     "metadata": {},
     "output_type": "execute_result"
    }
   ],
   "source": [
    "claim=pd.read_csv(r\"C:\\Users\\kmaye\\Downloads\\python case study\\Case Study 3 - Insurance Claims Case Study\\claims.csv\")\n",
    "claim.head()"
   ]
  },
  {
   "cell_type": "code",
   "execution_count": 4,
   "id": "cbe4a8ee",
   "metadata": {},
   "outputs": [
    {
     "data": {
      "text/html": [
       "<div>\n",
       "<style scoped>\n",
       "    .dataframe tbody tr th:only-of-type {\n",
       "        vertical-align: middle;\n",
       "    }\n",
       "\n",
       "    .dataframe tbody tr th {\n",
       "        vertical-align: top;\n",
       "    }\n",
       "\n",
       "    .dataframe thead th {\n",
       "        text-align: right;\n",
       "    }\n",
       "</style>\n",
       "<table border=\"1\" class=\"dataframe\">\n",
       "  <thead>\n",
       "    <tr style=\"text-align: right;\">\n",
       "      <th></th>\n",
       "      <th>CUST_ID</th>\n",
       "      <th>gender</th>\n",
       "      <th>DateOfBirth</th>\n",
       "      <th>State</th>\n",
       "      <th>Contact</th>\n",
       "      <th>Segment</th>\n",
       "    </tr>\n",
       "  </thead>\n",
       "  <tbody>\n",
       "    <tr>\n",
       "      <th>0</th>\n",
       "      <td>21868593</td>\n",
       "      <td>Female</td>\n",
       "      <td>12-Jan-79</td>\n",
       "      <td>VT</td>\n",
       "      <td>789-916-8172</td>\n",
       "      <td>Platinum</td>\n",
       "    </tr>\n",
       "    <tr>\n",
       "      <th>1</th>\n",
       "      <td>75740424</td>\n",
       "      <td>Female</td>\n",
       "      <td>13-Jan-70</td>\n",
       "      <td>ME</td>\n",
       "      <td>265-543-1264</td>\n",
       "      <td>Silver</td>\n",
       "    </tr>\n",
       "    <tr>\n",
       "      <th>2</th>\n",
       "      <td>30308357</td>\n",
       "      <td>Female</td>\n",
       "      <td>11-Mar-84</td>\n",
       "      <td>TN</td>\n",
       "      <td>798-631-4758</td>\n",
       "      <td>Silver</td>\n",
       "    </tr>\n",
       "    <tr>\n",
       "      <th>3</th>\n",
       "      <td>47830476</td>\n",
       "      <td>Female</td>\n",
       "      <td>01-May-86</td>\n",
       "      <td>MA</td>\n",
       "      <td>413-187-7945</td>\n",
       "      <td>Silver</td>\n",
       "    </tr>\n",
       "    <tr>\n",
       "      <th>4</th>\n",
       "      <td>19269962</td>\n",
       "      <td>Male</td>\n",
       "      <td>13-May-77</td>\n",
       "      <td>NV</td>\n",
       "      <td>956-871-8691</td>\n",
       "      <td>Gold</td>\n",
       "    </tr>\n",
       "  </tbody>\n",
       "</table>\n",
       "</div>"
      ],
      "text/plain": [
       "    CUST_ID  gender DateOfBirth State       Contact   Segment\n",
       "0  21868593  Female   12-Jan-79    VT  789-916-8172  Platinum\n",
       "1  75740424  Female   13-Jan-70    ME  265-543-1264    Silver\n",
       "2  30308357  Female   11-Mar-84    TN  798-631-4758    Silver\n",
       "3  47830476  Female   01-May-86    MA  413-187-7945    Silver\n",
       "4  19269962    Male   13-May-77    NV  956-871-8691      Gold"
      ]
     },
     "execution_count": 4,
     "metadata": {},
     "output_type": "execute_result"
    }
   ],
   "source": [
    "demo = pd.read_csv(r\"C:\\Users\\kmaye\\Downloads\\python case study\\Case Study 3 - Insurance Claims Case Study\\cust_demographics.csv\")\n",
    "demo.head()"
   ]
  },
  {
   "cell_type": "code",
   "execution_count": 5,
   "id": "b0b9c5c7",
   "metadata": {},
   "outputs": [
    {
     "data": {
      "text/html": [
       "<div>\n",
       "<style scoped>\n",
       "    .dataframe tbody tr th:only-of-type {\n",
       "        vertical-align: middle;\n",
       "    }\n",
       "\n",
       "    .dataframe tbody tr th {\n",
       "        vertical-align: top;\n",
       "    }\n",
       "\n",
       "    .dataframe thead th {\n",
       "        text-align: right;\n",
       "    }\n",
       "</style>\n",
       "<table border=\"1\" class=\"dataframe\">\n",
       "  <thead>\n",
       "    <tr style=\"text-align: right;\">\n",
       "      <th></th>\n",
       "      <th>claim_id</th>\n",
       "      <th>customer_id</th>\n",
       "      <th>incident_cause</th>\n",
       "      <th>claim_date</th>\n",
       "      <th>claim_area</th>\n",
       "      <th>police_report</th>\n",
       "      <th>claim_type</th>\n",
       "      <th>claim_amount</th>\n",
       "      <th>total_policy_claims</th>\n",
       "      <th>fraudulent</th>\n",
       "      <th>gender</th>\n",
       "      <th>DateOfBirth</th>\n",
       "      <th>State</th>\n",
       "      <th>Contact</th>\n",
       "      <th>Segment</th>\n",
       "    </tr>\n",
       "  </thead>\n",
       "  <tbody>\n",
       "    <tr>\n",
       "      <th>0</th>\n",
       "      <td>54004764</td>\n",
       "      <td>21868593</td>\n",
       "      <td>Driver error</td>\n",
       "      <td>11/27/2017</td>\n",
       "      <td>Auto</td>\n",
       "      <td>No</td>\n",
       "      <td>Material only</td>\n",
       "      <td>$2980</td>\n",
       "      <td>1.0</td>\n",
       "      <td>No</td>\n",
       "      <td>Female</td>\n",
       "      <td>12-Jan-79</td>\n",
       "      <td>VT</td>\n",
       "      <td>789-916-8172</td>\n",
       "      <td>Platinum</td>\n",
       "    </tr>\n",
       "    <tr>\n",
       "      <th>1</th>\n",
       "      <td>33985796</td>\n",
       "      <td>75740424</td>\n",
       "      <td>Crime</td>\n",
       "      <td>10/03/2018</td>\n",
       "      <td>Home</td>\n",
       "      <td>Unknown</td>\n",
       "      <td>Material only</td>\n",
       "      <td>$2980</td>\n",
       "      <td>3.0</td>\n",
       "      <td>No</td>\n",
       "      <td>Female</td>\n",
       "      <td>13-Jan-70</td>\n",
       "      <td>ME</td>\n",
       "      <td>265-543-1264</td>\n",
       "      <td>Silver</td>\n",
       "    </tr>\n",
       "    <tr>\n",
       "      <th>2</th>\n",
       "      <td>53522022</td>\n",
       "      <td>30308357</td>\n",
       "      <td>Other driver error</td>\n",
       "      <td>02/02/2018</td>\n",
       "      <td>Auto</td>\n",
       "      <td>No</td>\n",
       "      <td>Material only</td>\n",
       "      <td>$3369.5</td>\n",
       "      <td>1.0</td>\n",
       "      <td>Yes</td>\n",
       "      <td>Female</td>\n",
       "      <td>11-Mar-84</td>\n",
       "      <td>TN</td>\n",
       "      <td>798-631-4758</td>\n",
       "      <td>Silver</td>\n",
       "    </tr>\n",
       "    <tr>\n",
       "      <th>3</th>\n",
       "      <td>13015401</td>\n",
       "      <td>47830476</td>\n",
       "      <td>Natural causes</td>\n",
       "      <td>06/17/2018</td>\n",
       "      <td>Auto</td>\n",
       "      <td>No</td>\n",
       "      <td>Material only</td>\n",
       "      <td>$1680</td>\n",
       "      <td>1.0</td>\n",
       "      <td>No</td>\n",
       "      <td>Female</td>\n",
       "      <td>01-May-86</td>\n",
       "      <td>MA</td>\n",
       "      <td>413-187-7945</td>\n",
       "      <td>Silver</td>\n",
       "    </tr>\n",
       "    <tr>\n",
       "      <th>4</th>\n",
       "      <td>22890252</td>\n",
       "      <td>19269962</td>\n",
       "      <td>Crime</td>\n",
       "      <td>01/13/2018</td>\n",
       "      <td>Auto</td>\n",
       "      <td>No</td>\n",
       "      <td>Material only</td>\n",
       "      <td>$2680</td>\n",
       "      <td>1.0</td>\n",
       "      <td>No</td>\n",
       "      <td>Male</td>\n",
       "      <td>13-May-77</td>\n",
       "      <td>NV</td>\n",
       "      <td>956-871-8691</td>\n",
       "      <td>Gold</td>\n",
       "    </tr>\n",
       "  </tbody>\n",
       "</table>\n",
       "</div>"
      ],
      "text/plain": [
       "   claim_id  customer_id      incident_cause  claim_date claim_area  \\\n",
       "0  54004764     21868593        Driver error  11/27/2017       Auto   \n",
       "1  33985796     75740424               Crime  10/03/2018       Home   \n",
       "2  53522022     30308357  Other driver error  02/02/2018       Auto   \n",
       "3  13015401     47830476      Natural causes  06/17/2018       Auto   \n",
       "4  22890252     19269962               Crime  01/13/2018       Auto   \n",
       "\n",
       "  police_report     claim_type claim_amount  total_policy_claims fraudulent  \\\n",
       "0            No  Material only        $2980                  1.0         No   \n",
       "1       Unknown  Material only        $2980                  3.0         No   \n",
       "2            No  Material only      $3369.5                  1.0        Yes   \n",
       "3            No  Material only        $1680                  1.0         No   \n",
       "4            No  Material only        $2680                  1.0         No   \n",
       "\n",
       "   gender DateOfBirth State       Contact   Segment  \n",
       "0  Female   12-Jan-79    VT  789-916-8172  Platinum  \n",
       "1  Female   13-Jan-70    ME  265-543-1264    Silver  \n",
       "2  Female   11-Mar-84    TN  798-631-4758    Silver  \n",
       "3  Female   01-May-86    MA  413-187-7945    Silver  \n",
       "4    Male   13-May-77    NV  956-871-8691      Gold  "
      ]
     },
     "execution_count": 5,
     "metadata": {},
     "output_type": "execute_result"
    }
   ],
   "source": [
    "merged_df = pd.merge(claim,demo, left_on=\"customer_id\",right_on= \"CUST_ID\",how=\"left\").drop(columns='CUST_ID')\n",
    "merged_df.head()"
   ]
  },
  {
   "cell_type": "markdown",
   "id": "45eb6f6a",
   "metadata": {},
   "source": [
    "### 2.Perform a data audit for the datatypes and find out if there are any mismatch within the current datatypes of the columns    and their business significance.\n",
    "   "
   ]
  },
  {
   "cell_type": "code",
   "execution_count": 6,
   "id": "42a51aa8",
   "metadata": {},
   "outputs": [
    {
     "data": {
      "text/plain": [
       "claim_id                 int64\n",
       "customer_id              int64\n",
       "incident_cause          object\n",
       "claim_date              object\n",
       "claim_area              object\n",
       "police_report           object\n",
       "claim_type              object\n",
       "claim_amount            object\n",
       "total_policy_claims    float64\n",
       "fraudulent              object\n",
       "gender                  object\n",
       "DateOfBirth             object\n",
       "State                   object\n",
       "Contact                 object\n",
       "Segment                 object\n",
       "dtype: object"
      ]
     },
     "execution_count": 6,
     "metadata": {},
     "output_type": "execute_result"
    }
   ],
   "source": [
    "merged_df.dtypes"
   ]
  },
  {
   "cell_type": "markdown",
   "id": "da02a703",
   "metadata": {},
   "source": [
    "claim_date,DateOfBirth should be in datetime format and claim_amount  datatype should be float/int."
   ]
  },
  {
   "cell_type": "markdown",
   "id": "878962ba",
   "metadata": {},
   "source": [
    "### 3.Convert the column claim_amount to numeric. Use the appropriate modules/attributes to remove the dollar sign."
   ]
  },
  {
   "cell_type": "code",
   "execution_count": 7,
   "id": "45beeb94",
   "metadata": {},
   "outputs": [],
   "source": [
    "\n",
    "merged_df['claim_amount'] = pd.to_numeric(merged_df['claim_amount'].str.replace('$', '',regex=False))\n",
    "\n"
   ]
  },
  {
   "cell_type": "markdown",
   "id": "5b1c857f",
   "metadata": {},
   "source": [
    "### 4. Of all the injury claims, some of them have gone unreported with the police. Create an alert flag (1,0) for all such claims."
   ]
  },
  {
   "cell_type": "code",
   "execution_count": 8,
   "id": "2dbab943",
   "metadata": {},
   "outputs": [
    {
     "data": {
      "text/plain": [
       "array(['Material only', 'Injury only', 'Material and injury'],\n",
       "      dtype=object)"
      ]
     },
     "execution_count": 8,
     "metadata": {},
     "output_type": "execute_result"
    }
   ],
   "source": [
    "merged_df['claim_type'].unique()"
   ]
  },
  {
   "cell_type": "code",
   "execution_count": 9,
   "id": "843bb6b2",
   "metadata": {
    "scrolled": false
   },
   "outputs": [
    {
     "data": {
      "text/plain": [
       "(149, 16)"
      ]
     },
     "execution_count": 9,
     "metadata": {},
     "output_type": "execute_result"
    }
   ],
   "source": [
    "merged_df['unreported_alert_flag'] = np.where((((merged_df['claim_type'] == 'Injury only') |(merged_df['claim_type'] == 'Material and injury')) & (merged_df['police_report'] == 'No')),1,0)\n",
    "merged_df[merged_df['unreported_alert_flag'] == 1].shape"
   ]
  },
  {
   "cell_type": "markdown",
   "id": "528f9afb",
   "metadata": {},
   "source": [
    "### 5. One customer can claim for insurance more than once and in each claim, multiple categories of claims can be involved. However, customer ID should remain unique. Retain the most recent observation and delete any duplicated records in the data based on the customer ID column."
   ]
  },
  {
   "cell_type": "code",
   "execution_count": 10,
   "id": "aa0a4d41",
   "metadata": {},
   "outputs": [],
   "source": [
    "merged_df['claim_date'] = pd.to_datetime(merged_df['claim_date'])\n"
   ]
  },
  {
   "cell_type": "code",
   "execution_count": 11,
   "id": "25ec5088",
   "metadata": {
    "scrolled": true
   },
   "outputs": [
    {
     "data": {
      "text/plain": [
       "(1093, 16)"
      ]
     },
     "execution_count": 11,
     "metadata": {},
     "output_type": "execute_result"
    }
   ],
   "source": [
    "merged_df = merged_df.sort_values(by='claim_date', ascending=False)\n",
    "merged_df = merged_df.drop_duplicates(subset='customer_id', keep='first').reset_index(drop=True)\n",
    "merged_df.shape\n"
   ]
  },
  {
   "cell_type": "markdown",
   "id": "4bdd127c",
   "metadata": {},
   "source": [
    "### 6. Check for missing values and impute the missing values with an appropriate value. (mean for continuous and mode for categorical)"
   ]
  },
  {
   "cell_type": "code",
   "execution_count": 12,
   "id": "7965ee9a",
   "metadata": {},
   "outputs": [
    {
     "name": "stdout",
     "output_type": "stream",
     "text": [
      "Missing Values:\n",
      "claim_id                  0\n",
      "customer_id               0\n",
      "incident_cause            0\n",
      "claim_date                0\n",
      "claim_area                0\n",
      "police_report             0\n",
      "claim_type                0\n",
      "claim_amount             65\n",
      "total_policy_claims      10\n",
      "fraudulent                0\n",
      "gender                   15\n",
      "DateOfBirth              15\n",
      "State                    15\n",
      "Contact                  15\n",
      "Segment                  15\n",
      "unreported_alert_flag     0\n",
      "dtype: int64\n",
      "\n",
      "Missing Values After Imputation:\n",
      "claim_id                 0\n",
      "customer_id              0\n",
      "incident_cause           0\n",
      "claim_date               0\n",
      "claim_area               0\n",
      "police_report            0\n",
      "claim_type               0\n",
      "claim_amount             0\n",
      "total_policy_claims      0\n",
      "fraudulent               0\n",
      "gender                   0\n",
      "DateOfBirth              0\n",
      "State                    0\n",
      "Contact                  0\n",
      "Segment                  0\n",
      "unreported_alert_flag    0\n",
      "dtype: int64\n"
     ]
    }
   ],
   "source": [
    "missing_values = merged_df.isnull().sum()\n",
    "print(\"Missing Values:\")\n",
    "print(missing_values)\n",
    "\n",
    "continuous_columns = merged_df.select_dtypes(include=['float64']).columns\n",
    "merged_df[continuous_columns] = merged_df[continuous_columns].fillna(merged_df[continuous_columns].mean())\n",
    "\n",
    "categorical_columns = merged_df.select_dtypes(include=['object']).columns\n",
    "merged_df[categorical_columns] = merged_df[categorical_columns].fillna(merged_df[categorical_columns].mode().iloc[0])\n",
    "\n",
    "missing_values_after_imputation = merged_df.isnull().sum()\n",
    "print(\"\\nMissing Values After Imputation:\")\n",
    "print(missing_values_after_imputation)"
   ]
  },
  {
   "cell_type": "markdown",
   "id": "592a0ed4",
   "metadata": {},
   "source": [
    "### 7. Calculate the age of customers in years. Based on the age, categorize the customers according to the below criteria\n",
    "    Children < 18\n",
    "    Youth 18-30\n",
    "    Adult 30-60\n",
    "    Senior > 60"
   ]
  },
  {
   "cell_type": "code",
   "execution_count": 15,
   "id": "aeaa8deb",
   "metadata": {},
   "outputs": [
    {
     "data": {
      "text/html": [
       "<div>\n",
       "<style scoped>\n",
       "    .dataframe tbody tr th:only-of-type {\n",
       "        vertical-align: middle;\n",
       "    }\n",
       "\n",
       "    .dataframe tbody tr th {\n",
       "        vertical-align: top;\n",
       "    }\n",
       "\n",
       "    .dataframe thead th {\n",
       "        text-align: right;\n",
       "    }\n",
       "</style>\n",
       "<table border=\"1\" class=\"dataframe\">\n",
       "  <thead>\n",
       "    <tr style=\"text-align: right;\">\n",
       "      <th></th>\n",
       "      <th>customer_id</th>\n",
       "      <th>DateOfBirth</th>\n",
       "      <th>Age</th>\n",
       "      <th>Age_Category</th>\n",
       "    </tr>\n",
       "  </thead>\n",
       "  <tbody>\n",
       "    <tr>\n",
       "      <th>0</th>\n",
       "      <td>93915431</td>\n",
       "      <td>1967-09-08</td>\n",
       "      <td>56</td>\n",
       "      <td>Adult</td>\n",
       "    </tr>\n",
       "    <tr>\n",
       "      <th>1</th>\n",
       "      <td>38011078</td>\n",
       "      <td>1976-05-20</td>\n",
       "      <td>47</td>\n",
       "      <td>Adult</td>\n",
       "    </tr>\n",
       "    <tr>\n",
       "      <th>2</th>\n",
       "      <td>65208809</td>\n",
       "      <td>1964-04-22</td>\n",
       "      <td>59</td>\n",
       "      <td>Adult</td>\n",
       "    </tr>\n",
       "    <tr>\n",
       "      <th>3</th>\n",
       "      <td>49290530</td>\n",
       "      <td>1960-04-01</td>\n",
       "      <td>63</td>\n",
       "      <td>Senior</td>\n",
       "    </tr>\n",
       "    <tr>\n",
       "      <th>4</th>\n",
       "      <td>28932340</td>\n",
       "      <td>1996-01-05</td>\n",
       "      <td>28</td>\n",
       "      <td>Youth</td>\n",
       "    </tr>\n",
       "    <tr>\n",
       "      <th>...</th>\n",
       "      <td>...</td>\n",
       "      <td>...</td>\n",
       "      <td>...</td>\n",
       "      <td>...</td>\n",
       "    </tr>\n",
       "    <tr>\n",
       "      <th>1088</th>\n",
       "      <td>61745840</td>\n",
       "      <td>1994-07-24</td>\n",
       "      <td>29</td>\n",
       "      <td>Youth</td>\n",
       "    </tr>\n",
       "    <tr>\n",
       "      <th>1089</th>\n",
       "      <td>64840478</td>\n",
       "      <td>1974-02-14</td>\n",
       "      <td>50</td>\n",
       "      <td>Adult</td>\n",
       "    </tr>\n",
       "    <tr>\n",
       "      <th>1090</th>\n",
       "      <td>39587790</td>\n",
       "      <td>1965-01-10</td>\n",
       "      <td>59</td>\n",
       "      <td>Adult</td>\n",
       "    </tr>\n",
       "    <tr>\n",
       "      <th>1091</th>\n",
       "      <td>65176092</td>\n",
       "      <td>1975-11-23</td>\n",
       "      <td>48</td>\n",
       "      <td>Adult</td>\n",
       "    </tr>\n",
       "    <tr>\n",
       "      <th>1092</th>\n",
       "      <td>75934330</td>\n",
       "      <td>1987-10-09</td>\n",
       "      <td>36</td>\n",
       "      <td>Adult</td>\n",
       "    </tr>\n",
       "  </tbody>\n",
       "</table>\n",
       "<p>1093 rows × 4 columns</p>\n",
       "</div>"
      ],
      "text/plain": [
       "      customer_id DateOfBirth  Age Age_Category\n",
       "0        93915431  1967-09-08   56        Adult\n",
       "1        38011078  1976-05-20   47        Adult\n",
       "2        65208809  1964-04-22   59        Adult\n",
       "3        49290530  1960-04-01   63       Senior\n",
       "4        28932340  1996-01-05   28        Youth\n",
       "...           ...         ...  ...          ...\n",
       "1088     61745840  1994-07-24   29        Youth\n",
       "1089     64840478  1974-02-14   50        Adult\n",
       "1090     39587790  1965-01-10   59        Adult\n",
       "1091     65176092  1975-11-23   48        Adult\n",
       "1092     75934330  1987-10-09   36        Adult\n",
       "\n",
       "[1093 rows x 4 columns]"
      ]
     },
     "execution_count": 15,
     "metadata": {},
     "output_type": "execute_result"
    }
   ],
   "source": [
    "merged_df['DateOfBirth'] = pd.to_datetime(merged_df['DateOfBirth'], format='%d-%b-%y')\n",
    "current_date = pd.to_datetime('today')\n",
    "merged_df['DateOfBirth'] = merged_df['DateOfBirth'].apply(lambda x: x - pd.DateOffset(years=100) if x.year > current_date.year else x)\n",
    "\n",
    "\n",
    "merged_df['Age'] = ((current_date - merged_df['DateOfBirth']).dt.days / 365.25).astype(int)\n",
    "\n",
    "bins = [0, 18, 30, 60, float('inf')]\n",
    "labels = ['Children', 'Youth', 'Adult', 'Senior']\n",
    "merged_df['Age_Category'] = pd.cut(merged_df['Age'], bins=bins, labels=labels)\n",
    "\n",
    "merged_df[['customer_id', 'DateOfBirth', 'Age', 'Age_Category']]"
   ]
  },
  {
   "cell_type": "markdown",
   "id": "40561a38",
   "metadata": {},
   "source": [
    "### 8. What is the average amount claimed by the customers from various segments?"
   ]
  },
  {
   "cell_type": "code",
   "execution_count": 16,
   "id": "22a53edf",
   "metadata": {},
   "outputs": [
    {
     "name": "stdout",
     "output_type": "stream",
     "text": [
      "Average Amount Claimed by Customers from Various Segments:\n"
     ]
    },
    {
     "data": {
      "text/plain": [
       "Segment\n",
       "Gold        12761.663185\n",
       "Platinum    12370.565077\n",
       "Silver      12265.736955\n",
       "Name: claim_amount, dtype: float64"
      ]
     },
     "execution_count": 16,
     "metadata": {},
     "output_type": "execute_result"
    }
   ],
   "source": [
    "average_claim_amount_by_segment = merged_df.groupby('Segment')['claim_amount'].mean()\n",
    "print(\"Average Amount Claimed by Customers from Various Segments:\")\n",
    "average_claim_amount_by_segment"
   ]
  },
  {
   "cell_type": "markdown",
   "id": "6e7e3d97",
   "metadata": {},
   "source": [
    "### 9. What is the total claim amount based on incident cause for all the claims that have been done at least 20 days prior to 1st of October, 2018."
   ]
  },
  {
   "cell_type": "code",
   "execution_count": 17,
   "id": "93a0d5d9",
   "metadata": {},
   "outputs": [
    {
     "name": "stdout",
     "output_type": "stream",
     "text": [
      "Total Claim Amount Based on Incident Cause (at least 20 days prior to 1st October 2018):\n",
      "incident_cause\n",
      "Crime                 7.269595e+05\n",
      "Driver error          3.344546e+06\n",
      "Natural causes        1.315301e+06\n",
      "Other causes          3.778023e+06\n",
      "Other driver error    3.342803e+06\n",
      "Name: claim_amount, dtype: float64\n"
     ]
    }
   ],
   "source": [
    "reference_date = pd.to_datetime('2018-10-01')\n",
    "filtered_df = merged_df[merged_df['claim_date'] <= reference_date - pd.DateOffset(days=20)]\n",
    "total_claim_amount_by_cause = filtered_df.groupby('incident_cause')['claim_amount'].sum()\n",
    "print(\"Total Claim Amount Based on Incident Cause (at least 20 days prior to 1st October 2018):\")\n",
    "print(total_claim_amount_by_cause)"
   ]
  },
  {
   "cell_type": "markdown",
   "id": "e347d938",
   "metadata": {},
   "source": [
    "### 10. How many adults from TX, DE and AK claimed insurance for driver related issues and causes?"
   ]
  },
  {
   "cell_type": "code",
   "execution_count": 18,
   "id": "21b7991e",
   "metadata": {},
   "outputs": [
    {
     "name": "stdout",
     "output_type": "stream",
     "text": [
      "17\n"
     ]
    }
   ],
   "source": [
    "filtered_df = merged_df[(merged_df['Age_Category'] == 'Adult') & (merged_df['State'].isin(['TX', 'DE', 'AK'])) & (merged_df['incident_cause'].str.contains('Driver' or 'driver'))]\n",
    "num_adults_driver_issues = len(filtered_df)\n",
    "print( num_adults_driver_issues)\n"
   ]
  },
  {
   "cell_type": "markdown",
   "id": "1bb302be",
   "metadata": {},
   "source": [
    "### 11. Draw a pie chart between the aggregated value of claim amount based on gender and segment. Represent the claim amount as a percentage on the pie chart"
   ]
  },
  {
   "cell_type": "code",
   "execution_count": 21,
   "id": "2c98d00c",
   "metadata": {},
   "outputs": [
    {
     "data": {
      "image/png": "[encoded data removed]",
      "text/plain": [
       "<Figure size 640x480 with 1 Axes>"
      ]
     },
     "metadata": {},
     "output_type": "display_data"
    }
   ],
   "source": [
    "agg_claim_amount = merged_df.groupby(['gender', 'Segment'])['claim_amount'].sum()\n",
    "# Display the result\n",
    "plt.pie(agg_claim_amount, labels=agg_claim_amount.index, autopct='%.1f%%', startangle=90)\n",
    "plt.title('Aggregated Claim Amount by Gender and Segment')\n",
    "plt.show()"
   ]
  },
  {
   "cell_type": "markdown",
   "id": "653a285d",
   "metadata": {},
   "source": [
    "### 12. Among males and females, which gender had claimed the most for any type of driver related issues? E.g. This metric can be compared using a bar chart"
   ]
  },
  {
   "cell_type": "code",
   "execution_count": 22,
   "id": "f5c3a027",
   "metadata": {},
   "outputs": [
    {
     "data": {
      "image/png": "[encoded data removed]",
      "text/plain": [
       "<Figure size 640x480 with 1 Axes>"
      ]
     },
     "metadata": {},
     "output_type": "display_data"
    }
   ],
   "source": [
    "driver_related_df = merged_df[merged_df['incident_cause'].str.contains('Driver' or 'driver')]\n",
    "gender_claim_count = driver_related_df['gender'].value_counts()\n",
    "\n",
    "plt.bar(gender_claim_count.index, gender_claim_count)\n",
    "plt.xlabel('Gender')\n",
    "plt.ylabel('Number of Claims')\n",
    "plt.title('Number of Claims for Driver-Related Issues by Gender')\n",
    "plt.show()"
   ]
  },
  {
   "cell_type": "markdown",
   "id": "dbb1b351",
   "metadata": {},
   "source": [
    "### 13. Which age group had the maximum fraudulent policy claims? Visualize it on a bar chart."
   ]
  },
  {
   "cell_type": "code",
   "execution_count": 23,
   "id": "0a509dbf",
   "metadata": {},
   "outputs": [
    {
     "data": {
      "image/png": "[encoded data removed]",
      "text/plain": [
       "<Figure size 640x480 with 1 Axes>"
      ]
     },
     "metadata": {},
     "output_type": "display_data"
    }
   ],
   "source": [
    "age_fraudulent_count = merged_df[merged_df['fraudulent'] == 'Yes']['Age_Category'].value_counts()\n",
    "\n",
    "plt.bar(age_fraudulent_count.index, age_fraudulent_count)\n",
    "plt.xlabel('Age Group')\n",
    "plt.ylabel('Number of Fraudulent Claims')\n",
    "plt.title('Number of Fraudulent Policy Claims by Age Group')\n",
    "plt.show()"
   ]
  },
  {
   "cell_type": "markdown",
   "id": "66b4e995",
   "metadata": {},
   "source": [
    "### 14. Visualize the monthly trend of the total amount that has been claimed by the customers. Ensure that on the “month” axis, the month is in a chronological order not alphabetical order"
   ]
  },
  {
   "cell_type": "code",
   "execution_count": 27,
   "id": "cfe694f9",
   "metadata": {
    "scrolled": true
   },
   "outputs": [
    {
     "data": {
      "image/png": "[encoded data removed]",
      "text/plain": [
       "<Figure size 1000x400 with 1 Axes>"
      ]
     },
     "metadata": {},
     "output_type": "display_data"
    }
   ],
   "source": [
    "merged_df['YearMonth'] = merged_df['claim_date'].dt.to_period('M')\n",
    "monthly_claim_amount = merged_df.groupby('YearMonth')['claim_amount'].sum()\n",
    "\n",
    "plt.figure(figsize=(10, 4))\n",
    "sns.lineplot(x=monthly_claim_amount.index.astype(str), y=monthly_claim_amount.values, marker='o')\n",
    "plt.xlabel('Month')\n",
    "plt.ylabel('Total Claim Amount')\n",
    "plt.title('Monthly Trend of Total Claim Amount')\n",
    "plt.xticks(rotation=45, ha='right')\n",
    "plt.show()\n"
   ]
  },
  {
   "cell_type": "markdown",
   "id": "31f3651f",
   "metadata": {},
   "source": [
    "### 15. What is the average claim amount for gender and age categories and suitably represent the above using a facetted bar chart, one facet that represents fraudulent claims and the other for non-fraudulent claims. Based on the conclusions from exploratory analysis as well as suitable statistical tests, answer the below questions. Please include a detailed write-up on the parameters taken into consideration, the Hypothesis testing steps, conclusion from the p-values and the business implications of the statements."
   ]
  },
  {
   "cell_type": "code",
   "execution_count": 29,
   "id": "bbef2908",
   "metadata": {},
   "outputs": [
    {
     "data": {
      "image/png": "[encoded data removed]",
      "text/plain": [
       "<Figure size 1068.74x400 with 2 Axes>"
      ]
     },
     "metadata": {},
     "output_type": "display_data"
    }
   ],
   "source": [
    "\n",
    "g =sns.catplot(x='gender', y='claim_amount', hue='Age_Category', col='fraudulent', data=merged_df, kind='bar',height=4, aspect=1.2)\n",
    "g.set_axis_labels('Gender', 'Average Claim Amount')\n",
    "g.set_titles('{col_name} Fraudulent Claims')\n",
    "g.fig.suptitle('Average Claim Amount by Gender and Age Categories for Fraudulent and Non-Fraudulent Claims', y=1.02)\n",
    "plt.show()"
   ]
  },
  {
   "cell_type": "code",
   "execution_count": 36,
   "id": "ada8cd02",
   "metadata": {},
   "outputs": [
    {
     "name": "stdout",
     "output_type": "stream",
     "text": [
      "Independent t-test p-value: 0.5673149209531335 0.5706169510555018\n",
      "There is not enough evidence to reject the null hypothesis,there is no significant diffrence\n"
     ]
    }
   ],
   "source": [
    "#performing hypothesis to check reation between claim amount and fraud\n",
    "fraudulent_data = merged_df[merged_df['fraudulent'] == 'Yes']\n",
    "non_fraudulent_data = merged_df[merged_df['fraudulent'] == 'No']\n",
    "\n",
    "t_statistic,p_value = stats.ttest_ind(fraudulent_data['claim_amount'], non_fraudulent_data['claim_amount'])\n",
    "print(\"Independent t-test p-value:\" ,t_statistic,p_value)\n",
    "if p_value>0.05:\n",
    "    print('There is not enough evidence to reject the null hypothesis,there is no significant diffrence')\n",
    "else:\n",
    "    print('Reject the null hypothesis,there is significant diffrence')"
   ]
  },
  {
   "cell_type": "markdown",
   "id": "45c14cf3",
   "metadata": {},
   "source": [
    "### 16. Is there any similarity in the amount claimed by males and females?"
   ]
  },
  {
   "cell_type": "code",
   "execution_count": 37,
   "id": "24ea4fe7",
   "metadata": {},
   "outputs": [
    {
     "name": "stdout",
     "output_type": "stream",
     "text": [
      "Two-sample t-test p-value: 0.3695185282320991\n",
      "Do not reject null hyothesis,There is significant similarity \n"
     ]
    }
   ],
   "source": [
    "# 1. Hypotheses:\n",
    "#ho :amount claim by male==amount claim by female\n",
    "#ha:amount claim by male!=amount claim by female\n",
    "\n",
    "male_data = merged_df[merged_df['gender'] == 'Male']\n",
    "female_data = merged_df[merged_df['gender'] == 'Female']\n",
    "result = stats.ttest_ind(male_data['claim_amount'], female_data['claim_amount'])\n",
    "print(\"Two-sample t-test p-value:\", result.pvalue)\n",
    "if result.pvalue>0.05:\n",
    "    print(\"Do not reject null hyothesis,There is significant similarity \")\n",
    "else:\n",
    "    print(\"Reject the null hypothesis,There is no similarity\")"
   ]
  },
  {
   "cell_type": "markdown",
   "id": "d4261eb2",
   "metadata": {},
   "source": [
    "### 17. Is there any relationship between age category and segment?\n"
   ]
  },
  {
   "cell_type": "code",
   "execution_count": 38,
   "id": "8c3167e9",
   "metadata": {},
   "outputs": [
    {
     "name": "stdout",
     "output_type": "stream",
     "text": [
      "Chi-square test p-value: 0.11619357146102656\n",
      "Do not reject  the null hypothesis-There is  relationship\n"
     ]
    }
   ],
   "source": [
    "import scipy.stats as stats\n",
    "contingency_table = pd.crosstab(merged_df['Age_Category'], merged_df['Segment'])\n",
    "chi2, p, _, _ = stats.chi2_contingency(contingency_table)\n",
    "print(\"Chi-square test p-value:\", p)\n",
    "if p<0.05:\n",
    "    print(\"Reject the null hypothesis\")\n",
    "else:\n",
    "    print(\"Do not reject  the null hypothesis-There is  relationship\")"
   ]
  },
  {
   "cell_type": "markdown",
   "id": "a5b17aea",
   "metadata": {},
   "source": [
    "### 18. The current year has shown a significant rise in claim amounts as compared to 2016-17 fiscal average which was $10,000.\n"
   ]
  },
  {
   "cell_type": "code",
   "execution_count": 46,
   "id": "4f33b702",
   "metadata": {},
   "outputs": [
    {
     "name": "stdout",
     "output_type": "stream",
     "text": [
      "T-test p-value: 1.2444078618606088e-05\n",
      "Reject the null hypothesis: There is a significant difference in the average claim amount for the current year compared to the fiscal average for 2016-17.\n"
     ]
    }
   ],
   "source": [
    "import scipy.stats as stats\n",
    "import pandas as pd\n",
    "\n",
    "merged_df['claim_year'] = merged_df['claim_date'].dt.year\n",
    "\n",
    "# Find the maximum year in the dataset (current year)\n",
    "current_year = merged_df['claim_year'].max()\n",
    "\n",
    "# Filter data for the current year\n",
    "current_year_data = merged_df[merged_df['claim_year'] == current_year]\n",
    "\n",
    "# Specify the fiscal average for 2016-17\n",
    "fiscal_average_2016_17 = 10000\n",
    "\n",
    "# Perform a one-sample t-test\n",
    "result = stats.ttest_1samp(current_year_data['claim_amount'], popmean=fiscal_average_2016_17)\n",
    "\n",
    "# Print the p-value\n",
    "print(\"T-test p-value:\", result.pvalue)\n",
    "\n",
    "# Set the significance level\n",
    "alpha = 0.05\n",
    "\n",
    "# Determine whether to accept or reject the null hypothesis\n",
    "if result.pvalue < alpha:\n",
    "    print(\"Reject the null hypothesis: There is a significant difference in the average claim amount for the current year compared to the fiscal average for 2016-17.\")\n",
    "else:\n",
    "    print(\"Do not reject  the null hypothesis: There is no significant difference in the average claim amount for the current year compared to the fiscal average for 2016-17.\")\n",
    "\n"
   ]
  },
  {
   "cell_type": "markdown",
   "id": "a6676810",
   "metadata": {},
   "source": [
    "### 19. Is there any difference between age groups and insurance claims?"
   ]
  },
  {
   "cell_type": "code",
   "execution_count": 48,
   "id": "7beb6548",
   "metadata": {},
   "outputs": [
    {
     "data": {
      "text/plain": [
       "3"
      ]
     },
     "execution_count": 48,
     "metadata": {},
     "output_type": "execute_result"
    }
   ],
   "source": [
    "merged_df['Age_Category'].nunique()"
   ]
  },
  {
   "cell_type": "code",
   "execution_count": 51,
   "id": "3b8324bb",
   "metadata": {},
   "outputs": [
    {
     "name": "stdout",
     "output_type": "stream",
     "text": [
      "ANOVA p-value: 0.6912605077934713\n",
      "Do not reject the null hypothesis: There is no significant difference between age groups and insurance claims.\n"
     ]
    }
   ],
   "source": [
    "from scipy.stats import f_oneway\n",
    "\n",
    "# Separate the claim amounts for each age group\n",
    "children_claims = merged_df[merged_df['Age_Category'] == 'Children']['claim_amount']\n",
    "youth_claims = merged_df[merged_df['Age_Category'] == 'Youth']['claim_amount']\n",
    "adult_claims = merged_df[merged_df['Age_Category'] == 'Adult']['claim_amount']\n",
    "senior_claims = merged_df[merged_df['Age_Category'] == 'Senior']['claim_amount']\n",
    "\n",
    "# Perform ANOVA test\n",
    "f_statistic, p_value = f_oneway( youth_claims, adult_claims, senior_claims)\n",
    "\n",
    "# Set the significance level\n",
    "alpha = 0.05\n",
    "\n",
    "# Print the p-value\n",
    "print(\"ANOVA p-value:\", p_value)\n",
    "\n",
    "# Determine whether to accept or reject the null hypothesis\n",
    "if p_value <= alpha:\n",
    "    print(\"Reject the null hypothesis: There is a significant difference between age groups and insurance claims.\")\n",
    "else:\n",
    "    print(\"Do not reject the null hypothesis: There is no significant difference between age groups and insurance claims.\")\n",
    "\n",
    "    "
   ]
  },
  {
   "cell_type": "markdown",
   "id": "71e0f995",
   "metadata": {},
   "source": [
    "### 20. Is there any relationship between total number of policy claims and the claimed amount?"
   ]
  },
  {
   "cell_type": "code",
   "execution_count": 84,
   "id": "98ba3c2f",
   "metadata": {},
   "outputs": [
    {
     "data": {
      "text/plain": [
       "total_policy_claims\n",
       "1.000000    12501.198186\n",
       "1.586977    13949.768137\n",
       "2.000000    13765.521195\n",
       "3.000000    12629.424567\n",
       "4.000000    11106.921402\n",
       "5.000000     8530.254176\n",
       "6.000000    14286.768137\n",
       "7.000000    23033.000000\n",
       "8.000000     3277.500000\n",
       "Name: claim_amount, dtype: float64"
      ]
     },
     "execution_count": 84,
     "metadata": {},
     "output_type": "execute_result"
    }
   ],
   "source": [
    "merged_df.groupby(['total_policy_claims'])['claim_amount'].mean()"
   ]
  },
  {
   "cell_type": "code",
   "execution_count": 53,
   "id": "5eb3c859",
   "metadata": {},
   "outputs": [
    {
     "name": "stdout",
     "output_type": "stream",
     "text": [
      "Correlation Coefficient: -0.023908971978697454\n",
      "P_value: 0.4297309187540837\n"
     ]
    }
   ],
   "source": [
    "from scipy.stats import pearsonr\n",
    "\n",
    "\n",
    "# Calculate the correlation coefficient\n",
    "correlation_coefficient, p_value = pearsonr(merged_df['total_policy_claims'], merged_df['claim_amount'])\n",
    "\n",
    "# Print the correlation coefficient\n",
    "print(\"Correlation Coefficient:\", correlation_coefficient)\n",
    "print('P_value:',p_value)\n",
    "\n"
   ]
  },
  {
   "cell_type": "markdown",
   "id": "1c72f6ef",
   "metadata": {},
   "source": [
    "Based on the correlation coefficient of -0.0239 and the p-value of 0.4297, it indicates that there is a weak, negligible negative correlation between the variables being tested. The p-value suggests that this correlation is not statistically significant, as it is above the typical threshold of 0.05. This means that we fail to reject the null hypothesis, which posits that there is no significant relationship between the variables."
   ]
  },
  {
   "cell_type": "code",
   "execution_count": null,
   "id": "5e6958f2",
   "metadata": {},
   "outputs": [],
   "source": []
  },
  {
   "cell_type": "code",
   "execution_count": null,
   "id": "e76ab087",
   "metadata": {},
   "outputs": [],
   "source": []
  },
  {
   "cell_type": "code",
   "execution_count": null,
   "id": "e06e8ab5",
   "metadata": {},
   "outputs": [],
   "source": []
  },
  {
   "cell_type": "code",
   "execution_count": null,
   "id": "eca8034f",
   "metadata": {},
   "outputs": [],
   "source": []
  }
 ],
 "metadata": {
  "kernelspec": {
   "display_name": "Python 3 (ipykernel)",
   "language": "python",
   "name": "python3"
  },
  "language_info": {
   "codemirror_mode": {
    "name": "ipython",
    "version": 3
   },
   "file_extension": ".py",
   "mimetype": "text/x-python",
   "name": "python",
   "nbconvert_exporter": "python",
   "pygments_lexer": "ipython3",
   "version": "3.11.4"
  }
 },
 "nbformat": 4,
 "nbformat_minor": 5
}
